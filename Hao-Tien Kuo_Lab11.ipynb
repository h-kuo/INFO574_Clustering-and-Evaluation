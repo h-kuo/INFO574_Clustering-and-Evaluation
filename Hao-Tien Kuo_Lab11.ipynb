{
 "cells": [
  {
   "cell_type": "markdown",
   "id": "89307bd9-8c33-4c3f-8650-697b483cc885",
   "metadata": {},
   "source": [
    "# Lab 11 (module 12)\n",
    "Hao-Tien Kuo"
   ]
  },
  {
   "cell_type": "code",
   "execution_count": 90,
   "id": "89c36894-5df4-413b-b8b0-29c187fab7f0",
   "metadata": {},
   "outputs": [],
   "source": [
    "# This is retail data for customers. \n",
    "# The customers have already been assigned to segments and we want to measure the segment performance in dollars.\n",
    "\n",
    "import numpy as np\n",
    "import pandas as pd\n",
    "import statistics\n",
    "import seaborn as sns\n",
    "import matplotlib.pyplot as plt\n",
    "\n",
    "df = pd.read_csv('segmentData.csv')"
   ]
  },
  {
   "cell_type": "markdown",
   "id": "d2050d33-d4b7-48f6-b191-0aa04f6d0676",
   "metadata": {},
   "source": [
    "## Exploratory Data Analysis"
   ]
  },
  {
   "cell_type": "code",
   "execution_count": 91,
   "id": "e61901e8-2dce-49b1-ac63-2e6c58f3676a",
   "metadata": {},
   "outputs": [
    {
     "data": {
      "text/html": [
       "<div>\n",
       "<style scoped>\n",
       "    .dataframe tbody tr th:only-of-type {\n",
       "        vertical-align: middle;\n",
       "    }\n",
       "\n",
       "    .dataframe tbody tr th {\n",
       "        vertical-align: top;\n",
       "    }\n",
       "\n",
       "    .dataframe thead th {\n",
       "        text-align: right;\n",
       "    }\n",
       "</style>\n",
       "<table border=\"1\" class=\"dataframe\">\n",
       "  <thead>\n",
       "    <tr style=\"text-align: right;\">\n",
       "      <th></th>\n",
       "      <th>cid</th>\n",
       "      <th>age</th>\n",
       "      <th>school</th>\n",
       "      <th>sex</th>\n",
       "      <th>items</th>\n",
       "      <th>dollars</th>\n",
       "      <th>segment</th>\n",
       "    </tr>\n",
       "  </thead>\n",
       "  <tbody>\n",
       "    <tr>\n",
       "      <th>0</th>\n",
       "      <td>1</td>\n",
       "      <td>48</td>\n",
       "      <td>14</td>\n",
       "      <td>male</td>\n",
       "      <td>3</td>\n",
       "      <td>14</td>\n",
       "      <td>8</td>\n",
       "    </tr>\n",
       "    <tr>\n",
       "      <th>1</th>\n",
       "      <td>2</td>\n",
       "      <td>26</td>\n",
       "      <td>10</td>\n",
       "      <td>female</td>\n",
       "      <td>1</td>\n",
       "      <td>7</td>\n",
       "      <td>1</td>\n",
       "    </tr>\n",
       "    <tr>\n",
       "      <th>2</th>\n",
       "      <td>3</td>\n",
       "      <td>23</td>\n",
       "      <td>16</td>\n",
       "      <td>male</td>\n",
       "      <td>2</td>\n",
       "      <td>16</td>\n",
       "      <td>2</td>\n",
       "    </tr>\n",
       "    <tr>\n",
       "      <th>3</th>\n",
       "      <td>4</td>\n",
       "      <td>32</td>\n",
       "      <td>18</td>\n",
       "      <td>female</td>\n",
       "      <td>7</td>\n",
       "      <td>81</td>\n",
       "      <td>3</td>\n",
       "    </tr>\n",
       "    <tr>\n",
       "      <th>4</th>\n",
       "      <td>5</td>\n",
       "      <td>55</td>\n",
       "      <td>16</td>\n",
       "      <td>male</td>\n",
       "      <td>4</td>\n",
       "      <td>58</td>\n",
       "      <td>4</td>\n",
       "    </tr>\n",
       "  </tbody>\n",
       "</table>\n",
       "</div>"
      ],
      "text/plain": [
       "   cid  age  school     sex  items  dollars  segment\n",
       "0    1   48      14    male      3       14        8\n",
       "1    2   26      10  female      1        7        1\n",
       "2    3   23      16    male      2       16        2\n",
       "3    4   32      18  female      7       81        3\n",
       "4    5   55      16    male      4       58        4"
      ]
     },
     "execution_count": 91,
     "metadata": {},
     "output_type": "execute_result"
    }
   ],
   "source": [
    "df.head()"
   ]
  },
  {
   "cell_type": "code",
   "execution_count": 92,
   "id": "bd56986b-0096-4b9a-9123-a4bfe10120bf",
   "metadata": {},
   "outputs": [
    {
     "name": "stdout",
     "output_type": "stream",
     "text": [
      "<class 'pandas.core.frame.DataFrame'>\n",
      "RangeIndex: 800000 entries, 0 to 799999\n",
      "Data columns (total 7 columns):\n",
      " #   Column   Non-Null Count   Dtype \n",
      "---  ------   --------------   ----- \n",
      " 0   cid      800000 non-null  int64 \n",
      " 1   age      800000 non-null  int64 \n",
      " 2   school   800000 non-null  int64 \n",
      " 3   sex      800000 non-null  object\n",
      " 4   items    800000 non-null  int64 \n",
      " 5   dollars  800000 non-null  int64 \n",
      " 6   segment  800000 non-null  int64 \n",
      "dtypes: int64(6), object(1)\n",
      "memory usage: 42.7+ MB\n"
     ]
    }
   ],
   "source": [
    "df.info()"
   ]
  },
  {
   "cell_type": "code",
   "execution_count": 93,
   "id": "4e8cbf00-3149-4449-bb37-c63eb6f7e3cc",
   "metadata": {},
   "outputs": [
    {
     "data": {
      "text/html": [
       "<div>\n",
       "<style scoped>\n",
       "    .dataframe tbody tr th:only-of-type {\n",
       "        vertical-align: middle;\n",
       "    }\n",
       "\n",
       "    .dataframe tbody tr th {\n",
       "        vertical-align: top;\n",
       "    }\n",
       "\n",
       "    .dataframe thead th {\n",
       "        text-align: right;\n",
       "    }\n",
       "</style>\n",
       "<table border=\"1\" class=\"dataframe\">\n",
       "  <thead>\n",
       "    <tr style=\"text-align: right;\">\n",
       "      <th></th>\n",
       "      <th>age</th>\n",
       "      <th>school</th>\n",
       "      <th>sex</th>\n",
       "      <th>items</th>\n",
       "      <th>dollars</th>\n",
       "    </tr>\n",
       "    <tr>\n",
       "      <th>segment</th>\n",
       "      <th></th>\n",
       "      <th></th>\n",
       "      <th></th>\n",
       "      <th></th>\n",
       "      <th></th>\n",
       "    </tr>\n",
       "  </thead>\n",
       "  <tbody>\n",
       "    <tr>\n",
       "      <th>1</th>\n",
       "      <td>22.66828</td>\n",
       "      <td>10.44376</td>\n",
       "      <td>0.50503</td>\n",
       "      <td>1.36501</td>\n",
       "      <td>6.79798</td>\n",
       "    </tr>\n",
       "    <tr>\n",
       "      <th>2</th>\n",
       "      <td>24.05608</td>\n",
       "      <td>15.80716</td>\n",
       "      <td>0.50504</td>\n",
       "      <td>1.80906</td>\n",
       "      <td>15.51609</td>\n",
       "    </tr>\n",
       "    <tr>\n",
       "      <th>3</th>\n",
       "      <td>34.50573</td>\n",
       "      <td>17.81266</td>\n",
       "      <td>0.50433</td>\n",
       "      <td>8.50312</td>\n",
       "      <td>74.49335</td>\n",
       "    </tr>\n",
       "    <tr>\n",
       "      <th>4</th>\n",
       "      <td>54.49724</td>\n",
       "      <td>16.36582</td>\n",
       "      <td>0.50580</td>\n",
       "      <td>5.49679</td>\n",
       "      <td>61.50463</td>\n",
       "    </tr>\n",
       "    <tr>\n",
       "      <th>5</th>\n",
       "      <td>71.86368</td>\n",
       "      <td>13.49566</td>\n",
       "      <td>0.25236</td>\n",
       "      <td>2.55861</td>\n",
       "      <td>8.68422</td>\n",
       "    </tr>\n",
       "    <tr>\n",
       "      <th>6</th>\n",
       "      <td>34.50223</td>\n",
       "      <td>13.44966</td>\n",
       "      <td>0.50448</td>\n",
       "      <td>2.55283</td>\n",
       "      <td>9.57435</td>\n",
       "    </tr>\n",
       "    <tr>\n",
       "      <th>7</th>\n",
       "      <td>44.54140</td>\n",
       "      <td>15.52418</td>\n",
       "      <td>0.75779</td>\n",
       "      <td>1.81227</td>\n",
       "      <td>36.50430</td>\n",
       "    </tr>\n",
       "    <tr>\n",
       "      <th>8</th>\n",
       "      <td>45.50983</td>\n",
       "      <td>13.50443</td>\n",
       "      <td>0.50709</td>\n",
       "      <td>2.56042</td>\n",
       "      <td>11.51952</td>\n",
       "    </tr>\n",
       "  </tbody>\n",
       "</table>\n",
       "</div>"
      ],
      "text/plain": [
       "              age    school      sex    items   dollars\n",
       "segment                                                \n",
       "1        22.66828  10.44376  0.50503  1.36501   6.79798\n",
       "2        24.05608  15.80716  0.50504  1.80906  15.51609\n",
       "3        34.50573  17.81266  0.50433  8.50312  74.49335\n",
       "4        54.49724  16.36582  0.50580  5.49679  61.50463\n",
       "5        71.86368  13.49566  0.25236  2.55861   8.68422\n",
       "6        34.50223  13.44966  0.50448  2.55283   9.57435\n",
       "7        44.54140  15.52418  0.75779  1.81227  36.50430\n",
       "8        45.50983  13.50443  0.50709  2.56042  11.51952"
      ]
     },
     "execution_count": 93,
     "metadata": {},
     "output_type": "execute_result"
    }
   ],
   "source": [
    "# Describe the centroids of the 8 segments. \n",
    "# You will need to recode sex, then create a table of the mean of each variable for the segment.\n",
    "\n",
    "df['sex'] = np.select([df['sex']=='female', df['sex']=='male'], [0, 1])\n",
    "df_centroid = df.groupby(['segment']).mean().drop(columns=['cid'])\n",
    "\n",
    "df_centroid"
   ]
  },
  {
   "cell_type": "markdown",
   "id": "e56decb6-d5b7-4d1c-aa3d-e079d4d84b6e",
   "metadata": {},
   "source": [
    "- Segment 1: This is the youngest group with lowest years of education. They have the least purchases in terms of items and dollars. \n",
    "- Segment 2: This is the second youngest group. However, compared with the first segment, they have a lot more years of education, and their spending is greater. \n",
    "- Segment 3: This group is in their 30s and has the highest education. They are the most profitable ones with high spending power. \n",
    "- Segment 4: This is the second oldest (50s) consumers, and they are also the second most profitable ones.\n",
    "- Segment 5: This group is generally elderly women, and their purchase power is relatively low.\n",
    "- Segment 6: Their age is similar to segment 3. However, they have lower education and less purchasing power.\n",
    "- Segment 7: This is mostly middle-aged men. They purchase less items but contribute high values. \n",
    "- Segment 8: This is also middle-aged consumers, but with less purchase value on average."
   ]
  },
  {
   "cell_type": "markdown",
   "id": "a464f33f-80d0-4435-8744-2d91fb242e51",
   "metadata": {},
   "source": [
    "## Effectiveness Metrics"
   ]
  },
  {
   "cell_type": "code",
   "execution_count": 98,
   "id": "87f13886-5613-4ac5-9157-d1e151121af9",
   "metadata": {},
   "outputs": [
    {
     "data": {
      "text/plain": [
       "segment\n",
       "3    33.167940\n",
       "4    27.384752\n",
       "7    16.253430\n",
       "2     6.908492\n",
       "8     5.129032\n",
       "6     4.262951\n",
       "5     3.866623\n",
       "1     3.026780\n",
       "Name: dollars, dtype: float64"
      ]
     },
     "execution_count": 98,
     "metadata": {},
     "output_type": "execute_result"
    }
   ],
   "source": [
    "# Compute the gain, cumulative gain, lift, and cumulative lift for each segment. \n",
    "# Don’t forget to sort to compute the cumulative statistics.\n",
    "\n",
    "# 𝑔𝑎𝑖𝑛 = 𝑠𝑒𝑔𝑚𝑒𝑛𝑡 / 𝑡𝑜𝑡𝑎𝑙 𝑜𝑓 𝑎𝑙𝑙 𝑠𝑒𝑔𝑚𝑒𝑛𝑡𝑠\n",
    "\n",
    "gain = (df.groupby(['segment'])['dollars'].sum() / df['dollars'].sum()) * 100\n",
    "gain.sort_values(ascending=False, inplace=True)\n",
    "\n",
    "gain"
   ]
  },
  {
   "cell_type": "code",
   "execution_count": 99,
   "id": "49353d23-3d8b-4d28-8e92-f11fa88cbac2",
   "metadata": {},
   "outputs": [
    {
     "data": {
      "text/plain": [
       "segment\n",
       "3     33.167940\n",
       "4     60.552692\n",
       "7     76.806122\n",
       "2     83.714615\n",
       "8     88.843646\n",
       "6     93.106597\n",
       "5     96.973220\n",
       "1    100.000000\n",
       "Name: dollars, dtype: float64"
      ]
     },
     "execution_count": 99,
     "metadata": {},
     "output_type": "execute_result"
    }
   ],
   "source": [
    "cum_gain = gain.cumsum()\n",
    "\n",
    "cum_gain"
   ]
  },
  {
   "cell_type": "code",
   "execution_count": 105,
   "id": "4e0c9374-7190-4918-a8fd-b07c14c9de8c",
   "metadata": {},
   "outputs": [
    {
     "data": {
      "text/plain": [
       "segment\n",
       "3    165.343523\n",
       "4    119.078015\n",
       "7     30.027440\n",
       "2    -44.732060\n",
       "8    -58.967746\n",
       "6    -65.896395\n",
       "5    -69.067017\n",
       "1    -75.785759\n",
       "Name: dollars, dtype: float64"
      ]
     },
     "execution_count": 105,
     "metadata": {},
     "output_type": "execute_result"
    }
   ],
   "source": [
    "# 𝑙𝑖𝑓𝑡 = 100 * (𝑠𝑒𝑔𝑚𝑒𝑛𝑡 / 𝑒𝑥𝑝𝑒𝑐𝑡𝑒𝑑 𝑣𝑎𝑙𝑢𝑒 𝑜𝑓 𝑠𝑒𝑔𝑚𝑒𝑛𝑡 - 1)\n",
    "\n",
    "lift = (df.groupby(['segment'])['dollars'].sum() / (df['dollars'].sum()/8) - 1) * 100\n",
    "lift.sort_values(ascending=False, inplace=True)\n",
    "\n",
    "lift"
   ]
  },
  {
   "cell_type": "code",
   "execution_count": 107,
   "id": "1b0f55b0-4e76-4ce3-b361-229faf55da56",
   "metadata": {},
   "outputs": [
    {
     "data": {
      "text/plain": [
       "segment\n",
       "3    165.343523\n",
       "4    142.210769\n",
       "7    104.816326\n",
       "2     67.429229\n",
       "8     42.149834\n",
       "6     24.142129\n",
       "5     10.826537\n",
       "1      0.000000\n",
       "Name: dollars, dtype: float64"
      ]
     },
     "execution_count": 107,
     "metadata": {},
     "output_type": "execute_result"
    }
   ],
   "source": [
    "cum_lift = lift.cumsum() / (np.arange(len(lift))+1)\n",
    "\n",
    "cum_lift"
   ]
  },
  {
   "cell_type": "code",
   "execution_count": 108,
   "id": "d1743f8a-249d-4190-bb4e-98c7eca29c20",
   "metadata": {},
   "outputs": [
    {
     "data": {
      "image/png": "[encoded data removed]",
      "text/plain": [
       "<Figure size 432x288 with 1 Axes>"
      ]
     },
     "metadata": {
      "needs_background": "light"
     },
     "output_type": "display_data"
    }
   ],
   "source": [
    "# Plot the gain as a bar chart\n",
    "\n",
    "plt.bar(gain.index.astype(str), gain.values)\n",
    "\n",
    "plt.show()"
   ]
  },
  {
   "cell_type": "code",
   "execution_count": 109,
   "id": "b2988b2c-5557-4efb-9685-93b6aac4f29a",
   "metadata": {},
   "outputs": [
    {
     "data": {
      "image/png": "[encoded data removed]",
      "text/plain": [
       "<Figure size 432x288 with 1 Axes>"
      ]
     },
     "metadata": {
      "needs_background": "light"
     },
     "output_type": "display_data"
    }
   ],
   "source": [
    "# Plot the cumulative gain as a line chart\n",
    "\n",
    "plt.plot(cum_gain.index.astype(str), cum_gain.values)\n",
    "\n",
    "plt.show()"
   ]
  },
  {
   "cell_type": "code",
   "execution_count": 110,
   "id": "37a790bc-0602-4ad4-a30b-9a10ec36087f",
   "metadata": {},
   "outputs": [
    {
     "data": {
      "image/png": "[encoded data removed]",
      "text/plain": [
       "<Figure size 432x288 with 1 Axes>"
      ]
     },
     "metadata": {
      "needs_background": "light"
     },
     "output_type": "display_data"
    }
   ],
   "source": [
    "# Plot the lift as a bar chart\n",
    "\n",
    "plt.bar(lift.index.astype(str), lift.values)\n",
    "\n",
    "plt.show()"
   ]
  },
  {
   "cell_type": "code",
   "execution_count": 111,
   "id": "0d52aae6-68cb-4890-9ddb-9f2c8882bf64",
   "metadata": {},
   "outputs": [
    {
     "data": {
      "image/png": "[encoded data removed]",
      "text/plain": [
       "<Figure size 432x288 with 1 Axes>"
      ]
     },
     "metadata": {
      "needs_background": "light"
     },
     "output_type": "display_data"
    }
   ],
   "source": [
    "# Plot the cumulative lift as a line chart\n",
    "\n",
    "plt.plot(cum_lift.index.astype(str), cum_lift.values)\n",
    "\n",
    "plt.show()"
   ]
  },
  {
   "cell_type": "code",
   "execution_count": null,
   "id": "d6686a5a-c08b-472c-b7e8-60d148d0a123",
   "metadata": {},
   "outputs": [],
   "source": []
  }
 ],
 "metadata": {
  "kernelspec": {
   "display_name": "Python 3",
   "language": "python",
   "name": "python3"
  },
  "language_info": {
   "codemirror_mode": {
    "name": "ipython",
    "version": 3
   },
   "file_extension": ".py",
   "mimetype": "text/x-python",
   "name": "python",
   "nbconvert_exporter": "python",
   "pygments_lexer": "ipython3",
   "version": "3.8.8"
  }
 },
 "nbformat": 4,
 "nbformat_minor": 5
}
